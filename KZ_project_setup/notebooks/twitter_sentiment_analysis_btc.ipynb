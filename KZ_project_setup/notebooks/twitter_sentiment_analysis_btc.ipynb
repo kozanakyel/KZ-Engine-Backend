{
 "cells": [
  {
   "cell_type": "code",
   "execution_count": 1,
   "metadata": {},
   "outputs": [
    {
     "name": "stderr",
     "output_type": "stream",
     "text": [
      "Python-dotenv could not parse statement starting at line 11\n"
     ]
    }
   ],
   "source": [
    "import os\n",
    "import sys\n",
    "module_path = os.path.abspath(os.path.join('..'))\n",
    "if module_path not in sys.path:\n",
    "    sys.path.append(module_path)\n",
    "\n",
    "import pandas as pd\n",
    "from twitter.twitter_collection import TwitterCollection\n",
    "from data_pipelines.data_manipulation import DataManipulation\n",
    "import warnings\n",
    "warnings.filterwarnings('ignore')\n",
    "warnings.simplefilter(action = 'ignore', category = pd.errors.PerformanceWarning)\n",
    "%matplotlib inline"
   ]
  },
  {
   "cell_type": "code",
   "execution_count": 2,
   "metadata": {},
   "outputs": [
    {
     "name": "stderr",
     "output_type": "stream",
     "text": [
      "[nltk_data] Downloading package stopwords to /home/kozan/nltk_data...\n",
      "[nltk_data]   Package stopwords is already up-to-date!\n"
     ]
    }
   ],
   "source": [
    "from collections import Counter\n",
    "import nltk\n",
    "from nltk.sentiment.vader import SentimentIntensityAnalyzer\n",
    "nltk.download('stopwords')\n",
    "from nltk.corpus import stopwords   # python -m nltk.downloader stopwords // from commandline\n",
    "\n",
    "stop = stopwords.words('english')\n",
    "import matplotlib.pyplot as plt\n",
    "import pandas as pd\n",
    "from wordcloud import WordCloud, STOPWORDS, ImageColorGenerator\n",
    "import re"
   ]
  },
  {
   "cell_type": "code",
   "execution_count": 3,
   "metadata": {},
   "outputs": [
    {
     "name": "stdout",
     "output_type": "stream",
     "text": [
      "Authentication Successfull\n"
     ]
    }
   ],
   "source": [
    "client_twitter = TwitterCollection()\n",
    "df_btc = client_twitter.get_tweets_df('bitcoin', pathdf='../data/tweets_data/btc/', filedf='btc_tweets.csv')"
   ]
  },
  {
   "cell_type": "code",
   "execution_count": 4,
   "metadata": {},
   "outputs": [
    {
     "data": {
      "text/html": [
       "<div>\n",
       "<style scoped>\n",
       "    .dataframe tbody tr th:only-of-type {\n",
       "        vertical-align: middle;\n",
       "    }\n",
       "\n",
       "    .dataframe tbody tr th {\n",
       "        vertical-align: top;\n",
       "    }\n",
       "\n",
       "    .dataframe thead th {\n",
       "        text-align: right;\n",
       "    }\n",
       "</style>\n",
       "<table border=\"1\" class=\"dataframe\">\n",
       "  <thead>\n",
       "    <tr style=\"text-align: right;\">\n",
       "      <th></th>\n",
       "      <th>created_at</th>\n",
       "      <th>text</th>\n",
       "      <th>source</th>\n",
       "      <th>name</th>\n",
       "      <th>username</th>\n",
       "      <th>location</th>\n",
       "      <th>verified</th>\n",
       "      <th>description</th>\n",
       "    </tr>\n",
       "  </thead>\n",
       "  <tbody>\n",
       "    <tr>\n",
       "      <th>0</th>\n",
       "      <td>2022-11-24 09:19:09+00:00</td>\n",
       "      <td>If you got your #btc        #eth stuck in #blo...</td>\n",
       "      <td>Twitter Web App</td>\n",
       "      <td>Okay Bears Sales</td>\n",
       "      <td>Virgini21645863</td>\n",
       "      <td>NaN</td>\n",
       "      <td>False</td>\n",
       "      <td>Free tag to ONLY moots.</td>\n",
       "    </tr>\n",
       "    <tr>\n",
       "      <th>1</th>\n",
       "      <td>2022-11-24 09:19:08+00:00</td>\n",
       "      <td>@KuWallet Download #KuCoinWallet and bet and w...</td>\n",
       "      <td>Twitter Web App</td>\n",
       "      <td>Albalooo</td>\n",
       "      <td>Albaloookhoshke</td>\n",
       "      <td>so far , so close</td>\n",
       "      <td>False</td>\n",
       "      <td>We all have something that make us really happ...</td>\n",
       "    </tr>\n",
       "    <tr>\n",
       "      <th>2</th>\n",
       "      <td>2022-11-24 09:19:06+00:00</td>\n",
       "      <td>The current data for #deXit \\n \\nprice 0.0012 ...</td>\n",
       "      <td>dexitPriceBot2</td>\n",
       "      <td>deXit Price Bot 🤖</td>\n",
       "      <td>dexitPriceBot</td>\n",
       "      <td>deXit community</td>\n",
       "      <td>False</td>\n",
       "      <td>This is a bot for deXit blockchain shows the p...</td>\n",
       "    </tr>\n",
       "    <tr>\n",
       "      <th>3</th>\n",
       "      <td>2022-11-24 09:19:05+00:00</td>\n",
       "      <td>@cryptojack @AltGemsAlert My biggest #crypto b...</td>\n",
       "      <td>Twitter Web App</td>\n",
       "      <td>Stacey Mitchell</td>\n",
       "      <td>StablePump</td>\n",
       "      <td>NaN</td>\n",
       "      <td>False</td>\n",
       "      <td>#web3 entrepreneur, dreamer, lifelong learner</td>\n",
       "    </tr>\n",
       "    <tr>\n",
       "      <th>4</th>\n",
       "      <td>2022-11-24 09:19:05+00:00</td>\n",
       "      <td>What Do You Really Own in the Ownership Econom...</td>\n",
       "      <td>Agorapulse app</td>\n",
       "      <td>Richard Turrin</td>\n",
       "      <td>richardturrin</td>\n",
       "      <td>Shanghai</td>\n",
       "      <td>False</td>\n",
       "      <td>Author best seller: Cashless | Onalytica No. 4...</td>\n",
       "    </tr>\n",
       "  </tbody>\n",
       "</table>\n",
       "</div>"
      ],
      "text/plain": [
       "                  created_at  \\\n",
       "0  2022-11-24 09:19:09+00:00   \n",
       "1  2022-11-24 09:19:08+00:00   \n",
       "2  2022-11-24 09:19:06+00:00   \n",
       "3  2022-11-24 09:19:05+00:00   \n",
       "4  2022-11-24 09:19:05+00:00   \n",
       "\n",
       "                                                text           source  \\\n",
       "0  If you got your #btc        #eth stuck in #blo...  Twitter Web App   \n",
       "1  @KuWallet Download #KuCoinWallet and bet and w...  Twitter Web App   \n",
       "2  The current data for #deXit \\n \\nprice 0.0012 ...   dexitPriceBot2   \n",
       "3  @cryptojack @AltGemsAlert My biggest #crypto b...  Twitter Web App   \n",
       "4  What Do You Really Own in the Ownership Econom...   Agorapulse app   \n",
       "\n",
       "                name         username           location verified  \\\n",
       "0   Okay Bears Sales  Virgini21645863                NaN    False   \n",
       "1           Albalooo  Albaloookhoshke  so far , so close    False   \n",
       "2  deXit Price Bot 🤖    dexitPriceBot   deXit community     False   \n",
       "3    Stacey Mitchell       StablePump                NaN    False   \n",
       "4     Richard Turrin    richardturrin           Shanghai    False   \n",
       "\n",
       "                                         description  \n",
       "0                            Free tag to ONLY moots.  \n",
       "1  We all have something that make us really happ...  \n",
       "2  This is a bot for deXit blockchain shows the p...  \n",
       "3      #web3 entrepreneur, dreamer, lifelong learner  \n",
       "4  Author best seller: Cashless | Onalytica No. 4...  "
      ]
     },
     "execution_count": 4,
     "metadata": {},
     "output_type": "execute_result"
    }
   ],
   "source": [
    "df_btc.head()"
   ]
  },
  {
   "cell_type": "code",
   "execution_count": 5,
   "metadata": {},
   "outputs": [],
   "source": [
    "def cleaning_tweet_data(df: pd.DataFrame()):\n",
    "    df_tweets = df.copy()\n",
    "    df_tweets.dropna(inplace=True)\n",
    "    if 'Unnamed: 0' in df_tweets.columns:\n",
    "        df_tweets.drop(columns=['Unnamed: 0'], axis=1, inplace=True)\n",
    "    df_tweets.drop(columns=['source', 'name', 'location', 'verified', 'description'], axis=1, inplace=True)\n",
    "    blanks = []  # start with an empty list\n",
    "\n",
    "    for i, created_at, text, username in df_tweets.itertuples():  \n",
    "        if type(text)==str:            \n",
    "            if text.isspace():         \n",
    "                blanks.append(i)    \n",
    "\n",
    "    df_tweets.drop(blanks, inplace=True)\n",
    "    df_tweets = df_tweets.apply(lambda x: x.astype(str).str.lower()).drop_duplicates(subset=['text', 'username'], keep='first')\n",
    "\n",
    "    df_tweets['text'] = df_tweets['text'].apply(lambda x: re.split('https:\\/\\/.*', str(x))[0])\n",
    "    df_tweets['text'] = df_tweets['text'].str.lower()\n",
    "    df_tweets['text'] = df_tweets['text'].str.replace(\"@[a-z0-9A-Z]+\", \"\", regex=True)\n",
    "    df_tweets['text'] = df_tweets['text'].str.replace(\"#[a-z0-9A-Z]+\",\"\", regex=True)\n",
    "    df_tweets['text'] = df_tweets['text'].str.replace(r\"http\\S+\", \"\")\n",
    "    df_tweets['text'] = df_tweets['text'].str.replace(r\"www.\\S+\", \"\")\n",
    "    df_tweets['text'] = df_tweets['text'].str.replace('[()!?]', ' ')\n",
    "    df_tweets['text'] = df_tweets['text'].str.replace('\\[.*?\\]',' ')\n",
    "    df_tweets['text'] = df_tweets['text'].str.replace(\"[^a-z0-9]\",\" \")\n",
    "    df_tweets['words'] = df_tweets['text'].apply(lambda x:str(x.lower()).split())\n",
    "\n",
    "    df_tweets['tweet_without_stopwords'] = df_tweets['text'].apply(lambda x: ' '.join([word for word in str(x).split() if word not in (stop)]))\n",
    "\n",
    "    def remove_stopword(x):\n",
    "        return [y for y in x if y not in stopwords.words('english')]\n",
    "    df_tweets['words'] = df_tweets['words'].apply(lambda x:remove_stopword(x))\n",
    "\n",
    "    def remove_hashtag(x):\n",
    "        return [y for y in x if not y.startswith('#')]\n",
    "    df_tweets['words'] = df_tweets['words'].apply(lambda x:remove_hashtag(x))\n",
    "\n",
    "    return df_tweets"
   ]
  },
  {
   "cell_type": "code",
   "execution_count": 6,
   "metadata": {},
   "outputs": [],
   "source": [
    "df_btc = cleaning_tweet_data(df_btc)"
   ]
  },
  {
   "cell_type": "code",
   "execution_count": null,
   "metadata": {},
   "outputs": [],
   "source": []
  }
 ],
 "metadata": {
  "kernelspec": {
   "display_name": "Python 3.10.6 ('tf_stock')",
   "language": "python",
   "name": "python3"
  },
  "language_info": {
   "codemirror_mode": {
    "name": "ipython",
    "version": 3
   },
   "file_extension": ".py",
   "mimetype": "text/x-python",
   "name": "python",
   "nbconvert_exporter": "python",
   "pygments_lexer": "ipython3",
   "version": "3.10.6"
  },
  "orig_nbformat": 4,
  "vscode": {
   "interpreter": {
    "hash": "8f97d5ab6e8b52c467319575a5af3fdb82615b87f2656e3584477e6e258fa7b9"
   }
  }
 },
 "nbformat": 4,
 "nbformat_minor": 2
}

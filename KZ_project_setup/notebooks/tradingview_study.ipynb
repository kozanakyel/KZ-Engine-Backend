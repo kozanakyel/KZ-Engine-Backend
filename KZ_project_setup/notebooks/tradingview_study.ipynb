{
 "cells": [
  {
   "cell_type": "code",
   "execution_count": 1,
   "metadata": {},
   "outputs": [],
   "source": [
    "import os\n",
    "import sys\n",
    "module_path = os.path.abspath(os.path.join('..'))\n",
    "if module_path not in sys.path:\n",
    "    sys.path.append(module_path)"
   ]
  },
  {
   "cell_type": "code",
   "execution_count": 2,
   "metadata": {},
   "outputs": [
    {
     "name": "stdout",
     "output_type": "stream",
     "text": [
      "3.3.0\n"
     ]
    }
   ],
   "source": [
    "import pandas as pd\n",
    "from tradingview_ta import TA_Handler, Interval, Exchange\n",
    "import tradingview_ta\n",
    "from tradingview_ta import *\n",
    "print(tradingview_ta.__version__)"
   ]
  },
  {
   "cell_type": "code",
   "execution_count": 3,
   "metadata": {},
   "outputs": [
    {
     "name": "stdout",
     "output_type": "stream",
     "text": [
      "{'RECOMMENDATION': 'BUY', 'BUY': 14, 'SELL': 3, 'NEUTRAL': 9}\n"
     ]
    }
   ],
   "source": [
    "sasa = TA_Handler(\n",
    "    symbol=\"SASA\",\n",
    "    screener=\"turkey\",\n",
    "    exchange=\"BIST\",\n",
    "    interval=Interval.INTERVAL_1_MINUTE\n",
    ")\n",
    "\n",
    "print(sasa.get_analysis().summary)"
   ]
  },
  {
   "cell_type": "code",
   "execution_count": 17,
   "metadata": {},
   "outputs": [],
   "source": [
    "df = pd.read_csv('./bist_symbol_data/ana_market.csv', index_col='Order')\n",
    "bist_symbols = df['Code'].to_list()\n",
    "bist_symbols = [f'bist:{i.lower()}' for i in bist_symbols]\n",
    "\n",
    "# for initial position -1, then we chack if condition satisfies convert 1, if not 0\n",
    "bist_symbols_dict = [(i.upper(),-1) for i in bist_symbols] \n",
    "bist_symbols_dict = dict(bist_symbols_dict)\n",
    "# return 'bist:sasa':-1"
   ]
  },
  {
   "cell_type": "code",
   "execution_count": 5,
   "metadata": {},
   "outputs": [],
   "source": [
    "analysis = sasa.get_analysis()\n",
    "ind = analysis.indicators"
   ]
  },
  {
   "cell_type": "code",
   "execution_count": 6,
   "metadata": {},
   "outputs": [],
   "source": [
    "analysis = get_multiple_analysis(\n",
    "        screener=\"turkey\", \n",
    "        interval=Interval.INTERVAL_1_HOUR, \n",
    "        symbols=bist_symbols\n",
    "        )"
   ]
  },
  {
   "cell_type": "code",
   "execution_count": 12,
   "metadata": {},
   "outputs": [],
   "source": [
    "# EMA5 >= SMA10, MACD.macd > MACD.signal, Ichimoku.BLine < close, ADX+DI >= ADX-DI, SMA10 < close, Stoch.K > Stoch.D \n",
    "def indicator_strategy_1(stock_ind: dict, symbol: str):\n",
    "\n",
    "    #current_symbol = TA_Handler(symbol= symbol.split(':')[1], screener=\"turkey\", exchange= symbol.split(':')[1],interval=Interval.INTERVAL_1_MINUTE        )\n",
    "    #current_price = current_symbol.get_analysis().indicators['close']\n",
    "    \n",
    "    pattern1 = stock_ind['EMA5'] >= stock_ind['SMA10']\n",
    "    pattern2 = stock_ind['MACD.macd'] > stock_ind['MACD.signal']\n",
    "    pattern3 = stock_ind['Ichimoku.BLine'] < stock_ind['close']\n",
    "    pattern4 = stock_ind['ADX+DI'] >= stock_ind['ADX-DI']\n",
    "    pattern5 = stock_ind['SMA10'] < stock_ind['close']\n",
    "    pattern6 = stock_ind['Stoch.K'] > stock_ind['Stoch.D']\n",
    "    if(pattern1 and pattern2 and pattern3 and pattern4 and pattern5 and pattern6):\n",
    "        print(f'Buy the stock {symbol}')"
   ]
  },
  {
   "cell_type": "code",
   "execution_count": 19,
   "metadata": {},
   "outputs": [],
   "source": [
    "def indicator_strategy_buy_signal(stock_ind: dict, symbol_pair: dict, symbol: str):\n",
    "\n",
    "    pattern1 = stock_ind['EMA5'] >= stock_ind['SMA10']\n",
    "    pattern2 = stock_ind['MACD.macd'] > stock_ind['MACD.signal']\n",
    "    pattern3 = stock_ind['Ichimoku.BLine'] < stock_ind['close']\n",
    "    pattern4 = stock_ind['ADX+DI'] >= stock_ind['ADX-DI']\n",
    "    pattern5 = stock_ind['SMA10'] < stock_ind['close']\n",
    "    pattern6 = stock_ind['Stoch.K'] > stock_ind['Stoch.D']\n",
    "\n",
    "    all_pattern = (pattern1 and pattern2 and pattern3 and pattern4 and pattern5 and pattern6)\n",
    "\n",
    "    if all_pattern and symbol_pair[symbol] == 0:\n",
    "        print(f'BUY SIGNAL FOR {symbol} at {stock_ind[\"close\"]}')\n",
    "        symbol_pair[symbol] = 1\n",
    "    elif all_pattern and symbol_pair[symbol] == -1:\n",
    "        symbol_pair[symbol] = 1\n",
    "    elif not all_pattern and symbol_pair[symbol] == 1:\n",
    "        print(f'SELL SIGNAL FOR {symbol} at {stock_ind[\"close\"]}')\n",
    "        symbol_pair[symbol] = 0\n",
    "    else:\n",
    "        symbol_pair[symbol] = 0"
   ]
  },
  {
   "cell_type": "code",
   "execution_count": 20,
   "metadata": {},
   "outputs": [
    {
     "ename": "KeyboardInterrupt",
     "evalue": "",
     "output_type": "error",
     "traceback": [
      "\u001b[0;31m---------------------------------------------------------------------------\u001b[0m",
      "\u001b[0;31mKeyboardInterrupt\u001b[0m                         Traceback (most recent call last)",
      "\u001b[1;32m/mnt/c/Users/kozan/Desktop/Sen_Des_Proj/pr_borsa_code/KZ_project_setup/notebooks/tradingview_study.ipynb Cell 9\u001b[0m in \u001b[0;36m<cell line: 2>\u001b[0;34m()\u001b[0m\n\u001b[1;32m      <a href='vscode-notebook-cell://wsl%2Bubuntu-22.04/mnt/c/Users/kozan/Desktop/Sen_Des_Proj/pr_borsa_code/KZ_project_setup/notebooks/tradingview_study.ipynb#X20sdnNjb2RlLXJlbW90ZQ%3D%3D?line=8'>9</a>\u001b[0m     dict_ind \u001b[39m=\u001b[39m analysis[k]\u001b[39m.\u001b[39mindicators\n\u001b[1;32m     <a href='vscode-notebook-cell://wsl%2Bubuntu-22.04/mnt/c/Users/kozan/Desktop/Sen_Des_Proj/pr_borsa_code/KZ_project_setup/notebooks/tradingview_study.ipynb#X20sdnNjb2RlLXJlbW90ZQ%3D%3D?line=9'>10</a>\u001b[0m     indicator_strategy_buy_signal(dict_ind, bist_symbols_dict, k)\n\u001b[0;32m---> <a href='vscode-notebook-cell://wsl%2Bubuntu-22.04/mnt/c/Users/kozan/Desktop/Sen_Des_Proj/pr_borsa_code/KZ_project_setup/notebooks/tradingview_study.ipynb#X20sdnNjb2RlLXJlbW90ZQ%3D%3D?line=10'>11</a>\u001b[0m time\u001b[39m.\u001b[39;49msleep(\u001b[39m60\u001b[39;49m\u001b[39m*\u001b[39;49m\u001b[39m10\u001b[39;49m)\n",
      "\u001b[0;31mKeyboardInterrupt\u001b[0m: "
     ]
    }
   ],
   "source": [
    "import time\n",
    "while True:\n",
    "    analysis = get_multiple_analysis(\n",
    "        screener=\"turkey\", \n",
    "        interval=Interval.INTERVAL_15_MINUTES, \n",
    "        symbols=bist_symbols\n",
    "        )\n",
    "    for k in analysis:\n",
    "        dict_ind = analysis[k].indicators\n",
    "        indicator_strategy_buy_signal(dict_ind, bist_symbols_dict, k)\n",
    "    time.sleep(60*10)"
   ]
  },
  {
   "cell_type": "code",
   "execution_count": null,
   "metadata": {},
   "outputs": [],
   "source": [
    "for k in analysis:\n",
    "    dict_ind = analysis[k].indicators\n",
    "    indicator_strategy_1(dict_ind, k)"
   ]
  },
  {
   "cell_type": "code",
   "execution_count": 19,
   "metadata": {},
   "outputs": [],
   "source": [
    "import datetime \n",
    "import pandas as pd\n",
    "\n",
    "from dotenv import load_dotenv\n",
    "\n",
    "load_dotenv()\n",
    "\n",
    "api_id=os.getenv('TG_api_id')\n",
    "api_hash = os.getenv('TG_hash_id')\n",
    "phone = os.getenv('TG_phone')\n",
    "username = os.getenv('TG_username')"
   ]
  },
  {
   "cell_type": "code",
   "execution_count": null,
   "metadata": {},
   "outputs": [],
   "source": [
    "from telethon.sync import TelegramClient\n",
    "\n",
    "client = TelegramClient(None, api_id, api_hash)\n",
    "\n",
    "async def main():\n",
    "    chats = ['...']\n",
    "    chat = '...'\n",
    "    df = pd.DataFrame()\n",
    "    async for message in client.iter_messages(chat, limit=1000):\n",
    "        data = {\"group\": chat, \"sender\": message.sender_id, \"text\": message.text, \"date\": message.date}\n",
    "        temp_df = pd.DataFrame(data)\n",
    "        df = df.append(temp_df)\n",
    "\n",
    "    df['date'] = df['date'].dt.tz_localize(None)  ## supheli tekrara bak\n",
    "    print(df.head())\n",
    "    df.to_csv('./burda.csv')\n",
    "\n",
    "async with client:\n",
    "    client.loop.run_until_complete(main())"
   ]
  },
  {
   "cell_type": "code",
   "execution_count": 18,
   "metadata": {},
   "outputs": [],
   "source": [
    "import nest_asyncio\n",
    "nest_asyncio.apply()"
   ]
  },
  {
   "cell_type": "code",
   "execution_count": null,
   "metadata": {},
   "outputs": [],
   "source": []
  }
 ],
 "metadata": {
  "kernelspec": {
   "display_name": "Python 3.10.6 ('tf_stock')",
   "language": "python",
   "name": "python3"
  },
  "language_info": {
   "codemirror_mode": {
    "name": "ipython",
    "version": 3
   },
   "file_extension": ".py",
   "mimetype": "text/x-python",
   "name": "python",
   "nbconvert_exporter": "python",
   "pygments_lexer": "ipython3",
   "version": "3.10.6"
  },
  "orig_nbformat": 4,
  "vscode": {
   "interpreter": {
    "hash": "8f97d5ab6e8b52c467319575a5af3fdb82615b87f2656e3584477e6e258fa7b9"
   }
  }
 },
 "nbformat": 4,
 "nbformat_minor": 2
}

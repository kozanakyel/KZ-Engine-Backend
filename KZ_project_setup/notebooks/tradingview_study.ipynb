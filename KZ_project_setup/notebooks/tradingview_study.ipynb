{
 "cells": [
  {
   "cell_type": "code",
   "execution_count": 1,
   "metadata": {},
   "outputs": [],
   "source": [
    "import os\n",
    "import sys\n",
    "module_path = os.path.abspath(os.path.join('..'))\n",
    "if module_path not in sys.path:\n",
    "    sys.path.append(module_path)"
   ]
  },
  {
   "cell_type": "code",
   "execution_count": 2,
   "metadata": {},
   "outputs": [
    {
     "name": "stdout",
     "output_type": "stream",
     "text": [
      "3.3.0\n"
     ]
    }
   ],
   "source": [
    "import pandas as pd\n",
    "from tradingview_ta import TA_Handler, Interval, Exchange\n",
    "import tradingview_ta\n",
    "from tradingview_ta import *\n",
    "print(tradingview_ta.__version__)"
   ]
  },
  {
   "cell_type": "code",
   "execution_count": 3,
   "metadata": {},
   "outputs": [
    {
     "name": "stdout",
     "output_type": "stream",
     "text": [
      "{'RECOMMENDATION': 'BUY', 'BUY': 14, 'SELL': 5, 'NEUTRAL': 7}\n"
     ]
    }
   ],
   "source": [
    "sasa = TA_Handler(\n",
    "    symbol=\"SASA\",\n",
    "    screener=\"turkey\",\n",
    "    exchange=\"BIST\",\n",
    "    interval=Interval.INTERVAL_1_DAY\n",
    ")\n",
    "print(sasa.get_analysis().summary)"
   ]
  },
  {
   "cell_type": "code",
   "execution_count": 4,
   "metadata": {},
   "outputs": [],
   "source": [
    "analysis = sasa.get_analysis()\n",
    "ind = analysis.indicators"
   ]
  },
  {
   "cell_type": "code",
   "execution_count": 5,
   "metadata": {},
   "outputs": [],
   "source": [
    "analysis = get_multiple_analysis(\n",
    "        screener=\"turkey\", \n",
    "        interval=Interval.INTERVAL_1_WEEK, \n",
    "        symbols=[\"bist:sasa\", \"bist:orma\", \"bist:sumas\", \"bist:aksa\", \"bist:petkm\"]\n",
    "        )"
   ]
  },
  {
   "cell_type": "code",
   "execution_count": 6,
   "metadata": {},
   "outputs": [],
   "source": [
    "# EMA5 >= SMA10, MACD.macd > MACD.signal, Ichimoku.BLine < close, ADX+DI >= ADX-DI, SMA10 < close, Stoch.K > Stoch.D \n",
    "def indicator_strategy_1(stock_ind: dict, symbol: str):\n",
    "    pattern1 = stock_ind['EMA5'] >= stock_ind['SMA10']\n",
    "    pattern2 = stock_ind['MACD.macd'] > stock_ind['MACD.signal']\n",
    "    pattern3 = stock_ind['Ichimoku.BLine'] < stock_ind['close']\n",
    "    pattern4 = stock_ind['ADX+DI'] >= stock_ind['ADX-DI']\n",
    "    pattern5 = stock_ind['SMA10'] < stock_ind['close']\n",
    "    pattern6 = stock_ind['Stoch.K'] > stock_ind['Stoch.D']\n",
    "    if(pattern1 and pattern2 and pattern3 and pattern4 and pattern5 and pattern6):\n",
    "        print(f'Buy the stock {symbol}')"
   ]
  },
  {
   "cell_type": "code",
   "execution_count": 7,
   "metadata": {},
   "outputs": [
    {
     "name": "stdout",
     "output_type": "stream",
     "text": [
      "Buy the stock BIST:SASA\n",
      "Buy the stock BIST:ORMA\n",
      "Buy the stock BIST:SUMAS\n",
      "Buy the stock BIST:AKSA\n"
     ]
    }
   ],
   "source": [
    "for k in analysis:\n",
    "    dict_ind = analysis[k].indicators\n",
    "    indicator_strategy_1(dict_ind, k)"
   ]
  },
  {
   "cell_type": "code",
   "execution_count": 19,
   "metadata": {},
   "outputs": [],
   "source": [
    "import datetime \n",
    "import pandas as pd\n",
    "\n",
    "from dotenv import load_dotenv\n",
    "\n",
    "load_dotenv()\n",
    "\n",
    "api_id=os.getenv('TG_api_id')\n",
    "api_hash = os.getenv('TG_hash_id')\n",
    "phone = os.getenv('TG_phone')\n",
    "username = os.getenv('TG_username')"
   ]
  },
  {
   "cell_type": "code",
   "execution_count": null,
   "metadata": {},
   "outputs": [],
   "source": [
    "from telethon.sync import TelegramClient\n",
    "\n",
    "client = TelegramClient(None, api_id, api_hash)\n",
    "\n",
    "async def main():\n",
    "    chats = ['...']\n",
    "    chat = '...'\n",
    "    df = pd.DataFrame()\n",
    "    async for message in client.iter_messages(chat, limit=1000):\n",
    "        data = {\"group\": chat, \"sender\": message.sender_id, \"text\": message.text, \"date\": message.date}\n",
    "        temp_df = pd.DataFrame(data)\n",
    "        df = df.append(temp_df)\n",
    "\n",
    "    df['date'] = df['date'].dt.tz_localize(None)\n",
    "    print(df.head())\n",
    "    df.to_csv('./burda.csv')\n",
    "\n",
    "async with client:\n",
    "    client.loop.run_until_complete(main())"
   ]
  },
  {
   "cell_type": "code",
   "execution_count": 18,
   "metadata": {},
   "outputs": [],
   "source": [
    "import nest_asyncio\n",
    "nest_asyncio.apply()"
   ]
  },
  {
   "cell_type": "code",
   "execution_count": null,
   "metadata": {},
   "outputs": [],
   "source": []
  }
 ],
 "metadata": {
  "kernelspec": {
   "display_name": "Python 3.10.6 ('tf_stock')",
   "language": "python",
   "name": "python3"
  },
  "language_info": {
   "codemirror_mode": {
    "name": "ipython",
    "version": 3
   },
   "file_extension": ".py",
   "mimetype": "text/x-python",
   "name": "python",
   "nbconvert_exporter": "python",
   "pygments_lexer": "ipython3",
   "version": "3.10.6"
  },
  "orig_nbformat": 4,
  "vscode": {
   "interpreter": {
    "hash": "8f97d5ab6e8b52c467319575a5af3fdb82615b87f2656e3584477e6e258fa7b9"
   }
  }
 },
 "nbformat": 4,
 "nbformat_minor": 2
}

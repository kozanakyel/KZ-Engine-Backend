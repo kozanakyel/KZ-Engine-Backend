{
 "cells": [
  {
   "cell_type": "code",
   "execution_count": 1,
   "metadata": {},
   "outputs": [],
   "source": [
    "import os\n",
    "import sys\n",
    "module_path = os.path.abspath(os.path.join('..'))\n",
    "if module_path not in sys.path:\n",
    "    sys.path.append(module_path)"
   ]
  },
  {
   "cell_type": "code",
   "execution_count": 2,
   "metadata": {},
   "outputs": [],
   "source": [
    "import pandas as pd\n",
    "from tradingview_ta import TA_Handler, Interval, Exchange\n",
    "import tradingview_ta\n",
    "from tradingview_ta import *"
   ]
  },
  {
   "cell_type": "code",
   "execution_count": 9,
   "metadata": {},
   "outputs": [
    {
     "data": {
      "text/plain": [
       "{'RECOMMENDATION': 'SELL', 'BUY': 6, 'SELL': 11, 'NEUTRAL': 9}"
      ]
     },
     "execution_count": 9,
     "metadata": {},
     "output_type": "execute_result"
    }
   ],
   "source": [
    "symbol=\"DOCO\"\n",
    "screener=\"turkey\"\n",
    "exchange=\"BIST\"\n",
    "\n",
    "def get_one_analysis(symbol, screener, exchange, interval) -> tradingview_ta.Analysis:\n",
    "    symbol_analysis = TA_Handler(\n",
    "        symbol=symbol,\n",
    "        screener=screener,\n",
    "        exchange=exchange,\n",
    "        interval=Interval.INTERVAL_1_HOUR\n",
    "    )\n",
    "    return symbol_analysis.get_analysis()\n",
    "\n",
    "sasa_exp = get_one_analysis(symbol, screener, exchange, Interval.INTERVAL_1_MINUTE)\n",
    "sasa_exp.summary"
   ]
  },
  {
   "cell_type": "code",
   "execution_count": 4,
   "metadata": {},
   "outputs": [],
   "source": [
    "df = pd.read_csv('./symbol_data/ana_market.csv', index_col='Order')\n",
    "bist_symbols = df['Code'].to_list()\n",
    "bist_symbols = [f'bist:{i.lower()}' for i in bist_symbols]\n",
    "\n",
    "# for initial position -1, then we chack if condition satisfies convert 1, if not 0\n",
    "bist_symbols_dict = [(i.upper(),-1) for i in bist_symbols] \n",
    "bist_symbols_dict = dict(bist_symbols_dict)\n",
    "# return 'bist:sasa':-1"
   ]
  },
  {
   "cell_type": "code",
   "execution_count": 5,
   "metadata": {},
   "outputs": [],
   "source": [
    "ind = sasa_exp.indicators"
   ]
  },
  {
   "cell_type": "code",
   "execution_count": 12,
   "metadata": {},
   "outputs": [],
   "source": [
    "# EMA5 >= SMA10, MACD.macd > MACD.signal, Ichimoku.BLine < close, ADX+DI >= ADX-DI, SMA10 < close, Stoch.K > Stoch.D \n",
    "def ind_st_buy_status(stock_ind: dict, symbol: str):\n",
    "    \n",
    "    current_price = get_one_analysis(symbol.split(':')[1], screener, exchange, Interval.INTERVAL_1_MINUTE)\n",
    "    current_price = current_price.indicators['close']\n",
    "    \n",
    "    pattern1 = stock_ind['EMA5'] >= stock_ind['SMA10']\n",
    "    pattern2 = stock_ind['MACD.macd'] > stock_ind['MACD.signal']\n",
    "    pattern3 = stock_ind['Ichimoku.BLine'] < current_price\n",
    "    pattern4 = stock_ind['ADX+DI'] >= stock_ind['ADX-DI']\n",
    "    pattern5 = stock_ind['SMA10'] < current_price\n",
    "    pattern6 = stock_ind['Stoch.K'] > stock_ind['Stoch.D']\n",
    "\n",
    "    if(pattern1 and pattern2 and pattern3 and pattern4 and pattern5 and pattern6):\n",
    "        #print(f'Buy the stock {symbol}')\n",
    "        return symbol.split(':')[1]\n",
    "    else:\n",
    "        return None"
   ]
  },
  {
   "cell_type": "code",
   "execution_count": null,
   "metadata": {},
   "outputs": [],
   "source": [
    "def get_st_result_list(screener, interval, symbols) -> list:\n",
    "    result_list = []\n",
    "    analysis = get_multiple_analysis(\n",
    "        screener=screener, \n",
    "        interval=interval, \n",
    "        symbols=symbols\n",
    "        )\n",
    "    for k in analysis:\n",
    "        dict_ind = analysis[k].indicators\n",
    "        temp_symbol = ind_st_buy_status(dict_ind, k)\n",
    "        if temp_symbol != None:\n",
    "            result_list.append(temp_symbol)\n",
    "    return result_list\n",
    "\n",
    "buy_list = get_st_result_list(screener, Interval.INTERVAL_1_DAY, bist_symbols)"
   ]
  },
  {
   "cell_type": "code",
   "execution_count": 17,
   "metadata": {},
   "outputs": [],
   "source": [
    "def ind_st_buy_signal(stock_ind: dict, symbol_pair: dict, symbol: str):\n",
    "\n",
    "    pattern1 = stock_ind['EMA5'] >= stock_ind['SMA10']\n",
    "    pattern2 = stock_ind['MACD.macd'] > stock_ind['MACD.signal']\n",
    "    pattern3 = stock_ind['Ichimoku.BLine'] < stock_ind['close']\n",
    "    pattern4 = stock_ind['ADX+DI'] >= stock_ind['ADX-DI']\n",
    "    pattern5 = stock_ind['SMA10'] < stock_ind['close']\n",
    "    pattern6 = stock_ind['Stoch.K'] > stock_ind['Stoch.D']\n",
    "\n",
    "    all_pattern = (pattern1 and pattern2 and pattern3 and pattern4 and pattern5 and pattern6)\n",
    "\n",
    "    if all_pattern and symbol_pair[symbol] == 0:\n",
    "        print(f'BUY SIGNAL FOR {symbol} at {stock_ind[\"close\"]}')\n",
    "        symbol_pair[symbol] = 1\n",
    "    elif all_pattern and symbol_pair[symbol] == -1:\n",
    "        symbol_pair[symbol] = 1\n",
    "    elif not all_pattern and symbol_pair[symbol] == 1:\n",
    "        print(f'SELL SIGNAL FOR {symbol} at {stock_ind[\"close\"]}')\n",
    "        symbol_pair[symbol] = 0\n",
    "    else:\n",
    "        symbol_pair[symbol] = 0"
   ]
  },
  {
   "cell_type": "code",
   "execution_count": 18,
   "metadata": {},
   "outputs": [],
   "source": [
    "import time\n",
    "\n",
    "def listen_live_signal(screener, interval, symbols, sleep_time) -> None:\n",
    "    while True:\n",
    "        analysis = get_multiple_analysis(\n",
    "            screener=screener, \n",
    "            interval=interval, \n",
    "            symbols=symbols\n",
    "            )\n",
    "        for k in analysis:\n",
    "            dict_ind = analysis[k].indicators\n",
    "            ind_st_buy_signal(dict_ind, bist_symbols_dict, k)\n",
    "        time.sleep(60*10)    "
   ]
  },
  {
   "cell_type": "code",
   "execution_count": null,
   "metadata": {},
   "outputs": [],
   "source": [
    "listen_live_signal(screener, Interval.INTERVAL_1_HOUR, bist_symbols, 60*10)"
   ]
  }
 ],
 "metadata": {
  "kernelspec": {
   "display_name": "Python 3.10.6 ('tf_stock')",
   "language": "python",
   "name": "python3"
  },
  "language_info": {
   "codemirror_mode": {
    "name": "ipython",
    "version": 3
   },
   "file_extension": ".py",
   "mimetype": "text/x-python",
   "name": "python",
   "nbconvert_exporter": "python",
   "pygments_lexer": "ipython3",
   "version": "3.10.6"
  },
  "orig_nbformat": 4,
  "vscode": {
   "interpreter": {
    "hash": "8f97d5ab6e8b52c467319575a5af3fdb82615b87f2656e3584477e6e258fa7b9"
   }
  }
 },
 "nbformat": 4,
 "nbformat_minor": 2
}

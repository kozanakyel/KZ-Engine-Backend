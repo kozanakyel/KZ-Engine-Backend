{
 "cells": [
  {
   "cell_type": "code",
   "execution_count": 1,
   "metadata": {},
   "outputs": [
    {
     "name": "stderr",
     "output_type": "stream",
     "text": [
      "Python-dotenv could not parse statement starting at line 11\n",
      "[nltk_data] Downloading package stopwords to /home/kozan/nltk_data...\n",
      "[nltk_data]   Package stopwords is already up-to-date!\n"
     ]
    }
   ],
   "source": [
    "import os\n",
    "import sys\n",
    "module_path = os.path.abspath(os.path.join('..'))\n",
    "if module_path not in sys.path:\n",
    "    sys.path.append(module_path)\n",
    "\n",
    "import pandas as pd\n",
    "from twitter.twitter_collection import TwitterCollection\n",
    "from twitter.tweet_sentiment_analyzer import TweetSentimentAnalyzer\n",
    "\n",
    "import yfinance as yf\n",
    "import matplotlib.pyplot as plt\n",
    "import warnings\n",
    "warnings.filterwarnings('ignore')\n",
    "warnings.simplefilter(action = 'ignore', category = pd.errors.PerformanceWarning)\n",
    "%matplotlib inline"
   ]
  },
  {
   "cell_type": "code",
   "execution_count": 2,
   "metadata": {},
   "outputs": [
    {
     "name": "stdout",
     "output_type": "stream",
     "text": [
      "Authentication Successfull\n"
     ]
    }
   ],
   "source": [
    "client_twitter = TwitterCollection()  \n",
    "tsa = TweetSentimentAnalyzer() "
   ]
  },
  {
   "cell_type": "code",
   "execution_count": 21,
   "metadata": {},
   "outputs": [
    {
     "name": "stdout",
     "output_type": "stream",
     "text": [
      "shape of ada tweets df: (55495, 8)\n",
      "day sentiment:\n",
      "             compound_total\n",
      "Date                      \n",
      "2022-12-04        0.416257\n",
      "2022-12-05        0.301695\n",
      "2022-12-06        0.354274\n",
      "2022-12-07        0.366592\n",
      "2022-12-08        0.396052\n",
      "2022-12-09        0.222896\n",
      "2022-12-10        0.412876\n",
      "2022-12-11        0.520940\n",
      "day results:\n",
      "             compound_total\n",
      "Date                      \n",
      "2022-12-10        0.185480\n",
      "2022-12-11        0.537989\n",
      "2022-12-12        0.335477\n",
      "2022-12-13        0.132820\n",
      "day total:\n",
      "             compound_total\n",
      "Date                      \n",
      "2022-12-04        0.416257\n",
      "2022-12-05        0.301695\n",
      "2022-12-06        0.354274\n",
      "2022-12-07        0.366592\n",
      "2022-12-08        0.396052\n",
      "2022-12-09        0.222896\n",
      "2022-12-10        0.412876\n",
      "2022-12-11        0.520940\n",
      "2022-12-12        0.335477\n",
      "2022-12-13        0.132820\n"
     ]
    }
   ],
   "source": [
    "def create_sentiment_scores(df_tweets: pd.DataFrame()) -> pd.DataFrame():\n",
    "    df = tsa.cleaning_tweet_data(df_tweets)\n",
    "    df = tsa.preprocessing_tweet_datetime(df)\n",
    "    df = tsa.get_sentiment_scores(df)\n",
    "    tsa.add_datetime_to_col(df)\n",
    "    return df  \n",
    "\n",
    "i = 'ada'\n",
    "df_tweets = client_twitter.get_tweets_with_interval(i, 'en', hour=24*3, interval=4)\n",
    "print(f'shape of {i} tweets df: {df_tweets.shape}')\n",
    "path_df = f'../data/tweets_data/{i}/'\n",
    "file_df = f'{i}_tweets.csv'\n",
    "#client_twitter.write_tweets_csv(df_tweets, path_df, file_df)\n",
    "\n",
    "sent_day_file_df = f'{i}_day.csv'\n",
    "sent_hour_file_df = f'{i}_hour.csv'\n",
    "\n",
    "if not os.path.exists(os.path.join(path_df, sent_day_file_df)):\n",
    "    os.makedirs(path_df, exist_ok=True)\n",
    "    with open(os.path.join(path_df, sent_day_file_df), mode='a'): pass\n",
    "    df = create_sentiment_scores(df_tweets)\n",
    "\n",
    "    df_result_day = tsa.get_sent_with_mean_interval(df, interval='1d')\n",
    "    #df_result_day.to_csv(os.path.join(path_df, sent_day_file_df))\n",
    "\n",
    "    df_result_hour = tsa.get_sent_with_mean_interval(df, interval='1h')\n",
    "    #df_result_hour.to_csv(os.path.join(path_df, sent_hour_file_df))\n",
    "else:\n",
    "    sent_day_df = pd.read_csv(os.path.join(path_df, sent_day_file_df), index_col=[0])\n",
    "    sent_day_df.index = pd.to_datetime(sent_day_df.index)\n",
    "    sent_hour_df = pd.read_csv(os.path.join(path_df, sent_hour_file_df), index_col=[0])\n",
    "    sent_hour_df.index = pd.to_datetime(sent_hour_df.index)\n",
    "    print(f'day sentiment:\\n {sent_day_df}')\n",
    "    df = create_sentiment_scores(df_tweets)\n",
    "    df_result_day = tsa.get_sent_with_mean_interval(df, interval='1d')\n",
    "    df_result_day.index = pd.to_datetime(df_result_day.index)\n",
    "    #df_result_day.to_csv(os.path.join(path_df, sent_day_file_df))\n",
    "    print(f'day results:\\n {df_result_day}')\n",
    "    sent_tweets = pd.concat([sent_day_df, df_result_day[df_result_day.index>sent_day_df.index[-1]]])\n",
    "    print(f'day total:\\n {sent_tweets}')\n",
    "    df_result_hour = tsa.get_sent_with_mean_interval(df, interval='1h')\n",
    "    #client_twitter.write_tweets_csv(df_tweets, path_df, file_df)"
   ]
  },
  {
   "cell_type": "code",
   "execution_count": 17,
   "metadata": {},
   "outputs": [
    {
     "data": {
      "text/plain": [
       "pandas.core.indexes.datetimes.DatetimeIndex"
      ]
     },
     "execution_count": 17,
     "metadata": {},
     "output_type": "execute_result"
    }
   ],
   "source": [
    "df_result_day.index = pd.to_datetime(df_result_day.index)\n",
    "type(df_result_day.index)"
   ]
  },
  {
   "cell_type": "code",
   "execution_count": 18,
   "metadata": {},
   "outputs": [
    {
     "data": {
      "text/plain": [
       "DatetimeIndex(['2022-12-10', '2022-12-11', '2022-12-12', '2022-12-13'], dtype='datetime64[ns]', name='Date', freq=None)"
      ]
     },
     "execution_count": 18,
     "metadata": {},
     "output_type": "execute_result"
    }
   ],
   "source": [
    "df_result_day.index"
   ]
  },
  {
   "cell_type": "code",
   "execution_count": 19,
   "metadata": {},
   "outputs": [
    {
     "data": {
      "text/plain": [
       "Index(['2022-12-04', '2022-12-05', '2022-12-06', '2022-12-07', '2022-12-08',\n",
       "       '2022-12-09', '2022-12-10', '2022-12-11'],\n",
       "      dtype='object', name='Date')"
      ]
     },
     "execution_count": 19,
     "metadata": {},
     "output_type": "execute_result"
    }
   ],
   "source": [
    "sent_day_df.index"
   ]
  },
  {
   "cell_type": "code",
   "execution_count": null,
   "metadata": {},
   "outputs": [],
   "source": []
  }
 ],
 "metadata": {
  "kernelspec": {
   "display_name": "tf_stock",
   "language": "python",
   "name": "python3"
  },
  "language_info": {
   "codemirror_mode": {
    "name": "ipython",
    "version": 3
   },
   "file_extension": ".py",
   "mimetype": "text/x-python",
   "name": "python",
   "nbconvert_exporter": "python",
   "pygments_lexer": "ipython3",
   "version": "3.10.6"
  },
  "orig_nbformat": 4,
  "vscode": {
   "interpreter": {
    "hash": "8f97d5ab6e8b52c467319575a5af3fdb82615b87f2656e3584477e6e258fa7b9"
   }
  }
 },
 "nbformat": 4,
 "nbformat_minor": 2
}

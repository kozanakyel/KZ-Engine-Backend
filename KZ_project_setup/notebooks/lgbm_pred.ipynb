{
 "cells": [
  {
   "cell_type": "code",
   "execution_count": 1,
   "metadata": {},
   "outputs": [],
   "source": [
    "import pandas as pd\n",
    "import numpy as np\n",
    "import matplotlib.pyplot as plt\n",
    "import seaborn as sns\n",
    "import warnings\n",
    "warnings.filterwarnings(\"ignore\")"
   ]
  },
  {
   "cell_type": "code",
   "execution_count": 3,
   "metadata": {},
   "outputs": [],
   "source": [
    "df = pd.read_csv('../outputs/data_ind/BTC-USD/BTC-USD_df_2y_1h.csv')\n",
    "df = df.drop(columns=['candlestick_pattern', 'Volume'], axis=1)\n",
    "df['Datetime'] = pd.to_datetime(df['Datetime'])\n",
    "df_btc = df.iloc[:-1, :].copy()\n",
    "df_btc = df_btc.dropna()"
   ]
  },
  {
   "cell_type": "code",
   "execution_count": 5,
   "metadata": {},
   "outputs": [
    {
     "data": {
      "text/html": [
       "<div>\n",
       "<style scoped>\n",
       "    .dataframe tbody tr th:only-of-type {\n",
       "        vertical-align: middle;\n",
       "    }\n",
       "\n",
       "    .dataframe tbody tr th {\n",
       "        vertical-align: top;\n",
       "    }\n",
       "\n",
       "    .dataframe thead th {\n",
       "        text-align: right;\n",
       "    }\n",
       "</style>\n",
       "<table border=\"1\" class=\"dataframe\">\n",
       "  <thead>\n",
       "    <tr style=\"text-align: right;\">\n",
       "      <th></th>\n",
       "      <th>Datetime</th>\n",
       "      <th>Open</th>\n",
       "      <th>High</th>\n",
       "      <th>Low</th>\n",
       "      <th>Close</th>\n",
       "      <th>sma_5</th>\n",
       "      <th>sma_10</th>\n",
       "      <th>sma_15</th>\n",
       "      <th>sma_20</th>\n",
       "      <th>sma_25</th>\n",
       "      <th>...</th>\n",
       "      <th>roc_20</th>\n",
       "      <th>roc_25</th>\n",
       "      <th>roc_30</th>\n",
       "      <th>roc_35</th>\n",
       "      <th>roc_40</th>\n",
       "      <th>roc_50</th>\n",
       "      <th>roc_99</th>\n",
       "      <th>candle_label</th>\n",
       "      <th>d_r</th>\n",
       "      <th>feature_label</th>\n",
       "    </tr>\n",
       "  </thead>\n",
       "  <tbody>\n",
       "    <tr>\n",
       "      <th>0</th>\n",
       "      <td>2020-11-18 02:00:00+00:00</td>\n",
       "      <td>17702.574219</td>\n",
       "      <td>17706.990234</td>\n",
       "      <td>17653.152344</td>\n",
       "      <td>17653.736328</td>\n",
       "      <td>17657.043750</td>\n",
       "      <td>17623.830859</td>\n",
       "      <td>17406.200260</td>\n",
       "      <td>17219.553320</td>\n",
       "      <td>17108.314141</td>\n",
       "      <td>...</td>\n",
       "      <td>6.122745</td>\n",
       "      <td>5.635412</td>\n",
       "      <td>5.812906</td>\n",
       "      <td>8.155357</td>\n",
       "      <td>8.908108</td>\n",
       "      <td>10.781901</td>\n",
       "      <td>8.494524</td>\n",
       "      <td>-1.0</td>\n",
       "      <td>-0.002756</td>\n",
       "      <td>1.0</td>\n",
       "    </tr>\n",
       "    <tr>\n",
       "      <th>1</th>\n",
       "      <td>2020-11-18 03:00:00+00:00</td>\n",
       "      <td>17653.814453</td>\n",
       "      <td>17948.886719</td>\n",
       "      <td>17638.074219</td>\n",
       "      <td>17947.945312</td>\n",
       "      <td>17714.206250</td>\n",
       "      <td>17690.413672</td>\n",
       "      <td>17487.134245</td>\n",
       "      <td>17286.697266</td>\n",
       "      <td>17155.667734</td>\n",
       "      <td>...</td>\n",
       "      <td>8.087164</td>\n",
       "      <td>7.061754</td>\n",
       "      <td>7.037137</td>\n",
       "      <td>9.760221</td>\n",
       "      <td>10.786160</td>\n",
       "      <td>12.486557</td>\n",
       "      <td>10.111130</td>\n",
       "      <td>1.0</td>\n",
       "      <td>0.016666</td>\n",
       "      <td>1.0</td>\n",
       "    </tr>\n",
       "    <tr>\n",
       "      <th>2</th>\n",
       "      <td>2020-11-18 04:00:00+00:00</td>\n",
       "      <td>17947.955078</td>\n",
       "      <td>18393.949219</td>\n",
       "      <td>17947.955078</td>\n",
       "      <td>18325.052734</td>\n",
       "      <td>17866.716797</td>\n",
       "      <td>17763.168359</td>\n",
       "      <td>17578.132161</td>\n",
       "      <td>17371.495605</td>\n",
       "      <td>17221.127969</td>\n",
       "      <td>...</td>\n",
       "      <td>10.198797</td>\n",
       "      <td>9.806162</td>\n",
       "      <td>9.107389</td>\n",
       "      <td>11.720949</td>\n",
       "      <td>12.122560</td>\n",
       "      <td>14.824570</td>\n",
       "      <td>12.300606</td>\n",
       "      <td>1.0</td>\n",
       "      <td>0.021011</td>\n",
       "      <td>0.0</td>\n",
       "    </tr>\n",
       "    <tr>\n",
       "      <th>3</th>\n",
       "      <td>2020-11-18 05:00:00+00:00</td>\n",
       "      <td>18325.164062</td>\n",
       "      <td>18325.164062</td>\n",
       "      <td>17493.488281</td>\n",
       "      <td>17572.521484</td>\n",
       "      <td>17840.355469</td>\n",
       "      <td>17743.175000</td>\n",
       "      <td>17613.320312</td>\n",
       "      <td>17413.207910</td>\n",
       "      <td>17258.315703</td>\n",
       "      <td>...</td>\n",
       "      <td>4.984062</td>\n",
       "      <td>5.586150</td>\n",
       "      <td>5.303512</td>\n",
       "      <td>5.955540</td>\n",
       "      <td>7.953108</td>\n",
       "      <td>10.211416</td>\n",
       "      <td>8.046676</td>\n",
       "      <td>-1.0</td>\n",
       "      <td>-0.041066</td>\n",
       "      <td>1.0</td>\n",
       "    </tr>\n",
       "    <tr>\n",
       "      <th>4</th>\n",
       "      <td>2020-11-18 06:00:00+00:00</td>\n",
       "      <td>17572.599609</td>\n",
       "      <td>17819.820312</td>\n",
       "      <td>17559.623047</td>\n",
       "      <td>17744.451172</td>\n",
       "      <td>17848.741406</td>\n",
       "      <td>17753.533984</td>\n",
       "      <td>17665.439974</td>\n",
       "      <td>17465.679492</td>\n",
       "      <td>17304.649688</td>\n",
       "      <td>...</td>\n",
       "      <td>6.285896</td>\n",
       "      <td>6.983857</td>\n",
       "      <td>6.151789</td>\n",
       "      <td>6.441514</td>\n",
       "      <td>8.889370</td>\n",
       "      <td>11.347462</td>\n",
       "      <td>9.587773</td>\n",
       "      <td>1.0</td>\n",
       "      <td>0.009784</td>\n",
       "      <td>1.0</td>\n",
       "    </tr>\n",
       "    <tr>\n",
       "      <th>...</th>\n",
       "      <td>...</td>\n",
       "      <td>...</td>\n",
       "      <td>...</td>\n",
       "      <td>...</td>\n",
       "      <td>...</td>\n",
       "      <td>...</td>\n",
       "      <td>...</td>\n",
       "      <td>...</td>\n",
       "      <td>...</td>\n",
       "      <td>...</td>\n",
       "      <td>...</td>\n",
       "      <td>...</td>\n",
       "      <td>...</td>\n",
       "      <td>...</td>\n",
       "      <td>...</td>\n",
       "      <td>...</td>\n",
       "      <td>...</td>\n",
       "      <td>...</td>\n",
       "      <td>...</td>\n",
       "      <td>...</td>\n",
       "      <td>...</td>\n",
       "    </tr>\n",
       "    <tr>\n",
       "      <th>16662</th>\n",
       "      <td>2022-10-23 10:00:00+00:00</td>\n",
       "      <td>19186.087891</td>\n",
       "      <td>19188.681641</td>\n",
       "      <td>19175.310547</td>\n",
       "      <td>19176.699219</td>\n",
       "      <td>19179.177734</td>\n",
       "      <td>19185.123242</td>\n",
       "      <td>19193.897526</td>\n",
       "      <td>19193.964453</td>\n",
       "      <td>19194.487969</td>\n",
       "      <td>...</td>\n",
       "      <td>-0.282067</td>\n",
       "      <td>0.116600</td>\n",
       "      <td>0.126054</td>\n",
       "      <td>0.018346</td>\n",
       "      <td>0.160823</td>\n",
       "      <td>1.002768</td>\n",
       "      <td>-0.296932</td>\n",
       "      <td>-1.0</td>\n",
       "      <td>-0.000455</td>\n",
       "      <td>0.0</td>\n",
       "    </tr>\n",
       "    <tr>\n",
       "      <th>16663</th>\n",
       "      <td>2022-10-23 11:00:00+00:00</td>\n",
       "      <td>19176.455078</td>\n",
       "      <td>19176.912109</td>\n",
       "      <td>19143.210938</td>\n",
       "      <td>19161.347656</td>\n",
       "      <td>19175.438672</td>\n",
       "      <td>19183.159375</td>\n",
       "      <td>19189.736068</td>\n",
       "      <td>19190.656055</td>\n",
       "      <td>19193.875078</td>\n",
       "      <td>...</td>\n",
       "      <td>-0.344132</td>\n",
       "      <td>-0.079901</td>\n",
       "      <td>0.040962</td>\n",
       "      <td>-0.063513</td>\n",
       "      <td>-0.215972</td>\n",
       "      <td>0.715611</td>\n",
       "      <td>-0.214409</td>\n",
       "      <td>-1.0</td>\n",
       "      <td>-0.000801</td>\n",
       "      <td>0.0</td>\n",
       "    </tr>\n",
       "    <tr>\n",
       "      <th>16664</th>\n",
       "      <td>2022-10-23 12:00:00+00:00</td>\n",
       "      <td>19161.333984</td>\n",
       "      <td>19164.806641</td>\n",
       "      <td>19124.197266</td>\n",
       "      <td>19154.394531</td>\n",
       "      <td>19172.954297</td>\n",
       "      <td>19178.076758</td>\n",
       "      <td>19185.659115</td>\n",
       "      <td>19188.563867</td>\n",
       "      <td>19192.718516</td>\n",
       "      <td>...</td>\n",
       "      <td>-0.217979</td>\n",
       "      <td>-0.150725</td>\n",
       "      <td>0.006659</td>\n",
       "      <td>-0.024446</td>\n",
       "      <td>-0.126911</td>\n",
       "      <td>0.776117</td>\n",
       "      <td>-0.593789</td>\n",
       "      <td>0.0</td>\n",
       "      <td>-0.000363</td>\n",
       "      <td>1.0</td>\n",
       "    </tr>\n",
       "    <tr>\n",
       "      <th>16665</th>\n",
       "      <td>2022-10-23 13:00:00+00:00</td>\n",
       "      <td>19154.681641</td>\n",
       "      <td>19175.173828</td>\n",
       "      <td>19153.154297</td>\n",
       "      <td>19174.783203</td>\n",
       "      <td>19170.531641</td>\n",
       "      <td>19175.393359</td>\n",
       "      <td>19183.869401</td>\n",
       "      <td>19188.401562</td>\n",
       "      <td>19192.020703</td>\n",
       "      <td>...</td>\n",
       "      <td>-0.016926</td>\n",
       "      <td>-0.090898</td>\n",
       "      <td>-0.014757</td>\n",
       "      <td>0.165448</td>\n",
       "      <td>0.069200</td>\n",
       "      <td>1.100340</td>\n",
       "      <td>-0.219725</td>\n",
       "      <td>1.0</td>\n",
       "      <td>0.001064</td>\n",
       "      <td>1.0</td>\n",
       "    </tr>\n",
       "    <tr>\n",
       "      <th>16666</th>\n",
       "      <td>2022-10-23 14:00:00+00:00</td>\n",
       "      <td>19175.601562</td>\n",
       "      <td>19199.302734</td>\n",
       "      <td>19175.601562</td>\n",
       "      <td>19194.091797</td>\n",
       "      <td>19172.263281</td>\n",
       "      <td>19176.138281</td>\n",
       "      <td>19182.985677</td>\n",
       "      <td>19189.016992</td>\n",
       "      <td>19191.793984</td>\n",
       "      <td>...</td>\n",
       "      <td>0.064168</td>\n",
       "      <td>-0.029521</td>\n",
       "      <td>0.155563</td>\n",
       "      <td>0.210958</td>\n",
       "      <td>0.050599</td>\n",
       "      <td>1.907475</td>\n",
       "      <td>-0.030080</td>\n",
       "      <td>1.0</td>\n",
       "      <td>0.001007</td>\n",
       "      <td>1.0</td>\n",
       "    </tr>\n",
       "  </tbody>\n",
       "</table>\n",
       "<p>16667 rows × 233 columns</p>\n",
       "</div>"
      ],
      "text/plain": [
       "                       Datetime          Open          High           Low  \\\n",
       "0     2020-11-18 02:00:00+00:00  17702.574219  17706.990234  17653.152344   \n",
       "1     2020-11-18 03:00:00+00:00  17653.814453  17948.886719  17638.074219   \n",
       "2     2020-11-18 04:00:00+00:00  17947.955078  18393.949219  17947.955078   \n",
       "3     2020-11-18 05:00:00+00:00  18325.164062  18325.164062  17493.488281   \n",
       "4     2020-11-18 06:00:00+00:00  17572.599609  17819.820312  17559.623047   \n",
       "...                         ...           ...           ...           ...   \n",
       "16662 2022-10-23 10:00:00+00:00  19186.087891  19188.681641  19175.310547   \n",
       "16663 2022-10-23 11:00:00+00:00  19176.455078  19176.912109  19143.210938   \n",
       "16664 2022-10-23 12:00:00+00:00  19161.333984  19164.806641  19124.197266   \n",
       "16665 2022-10-23 13:00:00+00:00  19154.681641  19175.173828  19153.154297   \n",
       "16666 2022-10-23 14:00:00+00:00  19175.601562  19199.302734  19175.601562   \n",
       "\n",
       "              Close         sma_5        sma_10        sma_15        sma_20  \\\n",
       "0      17653.736328  17657.043750  17623.830859  17406.200260  17219.553320   \n",
       "1      17947.945312  17714.206250  17690.413672  17487.134245  17286.697266   \n",
       "2      18325.052734  17866.716797  17763.168359  17578.132161  17371.495605   \n",
       "3      17572.521484  17840.355469  17743.175000  17613.320312  17413.207910   \n",
       "4      17744.451172  17848.741406  17753.533984  17665.439974  17465.679492   \n",
       "...             ...           ...           ...           ...           ...   \n",
       "16662  19176.699219  19179.177734  19185.123242  19193.897526  19193.964453   \n",
       "16663  19161.347656  19175.438672  19183.159375  19189.736068  19190.656055   \n",
       "16664  19154.394531  19172.954297  19178.076758  19185.659115  19188.563867   \n",
       "16665  19174.783203  19170.531641  19175.393359  19183.869401  19188.401562   \n",
       "16666  19194.091797  19172.263281  19176.138281  19182.985677  19189.016992   \n",
       "\n",
       "             sma_25  ...     roc_20    roc_25    roc_30     roc_35     roc_40  \\\n",
       "0      17108.314141  ...   6.122745  5.635412  5.812906   8.155357   8.908108   \n",
       "1      17155.667734  ...   8.087164  7.061754  7.037137   9.760221  10.786160   \n",
       "2      17221.127969  ...  10.198797  9.806162  9.107389  11.720949  12.122560   \n",
       "3      17258.315703  ...   4.984062  5.586150  5.303512   5.955540   7.953108   \n",
       "4      17304.649688  ...   6.285896  6.983857  6.151789   6.441514   8.889370   \n",
       "...             ...  ...        ...       ...       ...        ...        ...   \n",
       "16662  19194.487969  ...  -0.282067  0.116600  0.126054   0.018346   0.160823   \n",
       "16663  19193.875078  ...  -0.344132 -0.079901  0.040962  -0.063513  -0.215972   \n",
       "16664  19192.718516  ...  -0.217979 -0.150725  0.006659  -0.024446  -0.126911   \n",
       "16665  19192.020703  ...  -0.016926 -0.090898 -0.014757   0.165448   0.069200   \n",
       "16666  19191.793984  ...   0.064168 -0.029521  0.155563   0.210958   0.050599   \n",
       "\n",
       "          roc_50     roc_99  candle_label       d_r  feature_label  \n",
       "0      10.781901   8.494524          -1.0 -0.002756            1.0  \n",
       "1      12.486557  10.111130           1.0  0.016666            1.0  \n",
       "2      14.824570  12.300606           1.0  0.021011            0.0  \n",
       "3      10.211416   8.046676          -1.0 -0.041066            1.0  \n",
       "4      11.347462   9.587773           1.0  0.009784            1.0  \n",
       "...          ...        ...           ...       ...            ...  \n",
       "16662   1.002768  -0.296932          -1.0 -0.000455            0.0  \n",
       "16663   0.715611  -0.214409          -1.0 -0.000801            0.0  \n",
       "16664   0.776117  -0.593789           0.0 -0.000363            1.0  \n",
       "16665   1.100340  -0.219725           1.0  0.001064            1.0  \n",
       "16666   1.907475  -0.030080           1.0  0.001007            1.0  \n",
       "\n",
       "[16667 rows x 233 columns]"
      ]
     },
     "execution_count": 5,
     "metadata": {},
     "output_type": "execute_result"
    }
   ],
   "source": [
    "col_list = df.columns.to_list()\n",
    "\n",
    "df_btc.dropna()"
   ]
  },
  {
   "cell_type": "code",
   "execution_count": 6,
   "metadata": {},
   "outputs": [
    {
     "data": {
      "text/plain": [
       "Datetime         2022-10-23 15:00:00+00:00\n",
       "Open                          19191.744141\n",
       "High                          19206.572266\n",
       "Low                           19186.902344\n",
       "Close                         19197.810547\n",
       "                           ...            \n",
       "roc_50                            0.777076\n",
       "roc_99                            0.109517\n",
       "candle_label                          -1.0\n",
       "d_r                               0.000194\n",
       "feature_label                          1.0\n",
       "Name: 16667, Length: 233, dtype: object"
      ]
     },
     "execution_count": 6,
     "metadata": {},
     "output_type": "execute_result"
    }
   ],
   "source": [
    "result_test = df.iloc[-1,:].copy()\n",
    "#result_test = convert_matrix(result_test, col_list[1:])\n",
    "#result_test = result_test.drop(columns=['d_r'], axis=1)\n",
    "result_test"
   ]
  },
  {
   "cell_type": "code",
   "execution_count": 7,
   "metadata": {},
   "outputs": [
    {
     "data": {
      "text/plain": [
       "1.0    8419\n",
       "0.0    8248\n",
       "Name: feature_label, dtype: int64"
      ]
     },
     "execution_count": 7,
     "metadata": {},
     "output_type": "execute_result"
    }
   ],
   "source": [
    "df_btc = df_btc.reset_index()\n",
    "df_btc['feature_label'].value_counts()"
   ]
  },
  {
   "cell_type": "code",
   "execution_count": 8,
   "metadata": {},
   "outputs": [],
   "source": [
    "df_btc = df_btc.drop(columns=['index'], axis=1)\n",
    "df_btc.dropna()\n",
    "col_list = df_btc.columns.to_list()\n",
    "y_col = col_list.pop(-1)"
   ]
  },
  {
   "cell_type": "code",
   "execution_count": 9,
   "metadata": {},
   "outputs": [],
   "source": [
    "#col_list = ['wllr_20', 'macdsignal', 'dmi_down_30', 'atr_15', 'cci_10', 'atr_40', 't3_5','t3_50']"
   ]
  },
  {
   "cell_type": "code",
   "execution_count": 10,
   "metadata": {},
   "outputs": [],
   "source": [
    "X = df_btc[col_list[1:]]\n",
    "y = df_btc[y_col]"
   ]
  },
  {
   "cell_type": "code",
   "execution_count": 11,
   "metadata": {},
   "outputs": [],
   "source": [
    "from sklearn.model_selection import train_test_split\n",
    "X_train, X_test, y_train, y_test = train_test_split(X, y, test_size = 0.1, random_state = 0)"
   ]
  },
  {
   "cell_type": "code",
   "execution_count": 12,
   "metadata": {},
   "outputs": [
    {
     "data": {
      "text/html": [
       "<style>#sk-container-id-1 {color: black;background-color: white;}#sk-container-id-1 pre{padding: 0;}#sk-container-id-1 div.sk-toggleable {background-color: white;}#sk-container-id-1 label.sk-toggleable__label {cursor: pointer;display: block;width: 100%;margin-bottom: 0;padding: 0.3em;box-sizing: border-box;text-align: center;}#sk-container-id-1 label.sk-toggleable__label-arrow:before {content: \"▸\";float: left;margin-right: 0.25em;color: #696969;}#sk-container-id-1 label.sk-toggleable__label-arrow:hover:before {color: black;}#sk-container-id-1 div.sk-estimator:hover label.sk-toggleable__label-arrow:before {color: black;}#sk-container-id-1 div.sk-toggleable__content {max-height: 0;max-width: 0;overflow: hidden;text-align: left;background-color: #f0f8ff;}#sk-container-id-1 div.sk-toggleable__content pre {margin: 0.2em;color: black;border-radius: 0.25em;background-color: #f0f8ff;}#sk-container-id-1 input.sk-toggleable__control:checked~div.sk-toggleable__content {max-height: 200px;max-width: 100%;overflow: auto;}#sk-container-id-1 input.sk-toggleable__control:checked~label.sk-toggleable__label-arrow:before {content: \"▾\";}#sk-container-id-1 div.sk-estimator input.sk-toggleable__control:checked~label.sk-toggleable__label {background-color: #d4ebff;}#sk-container-id-1 div.sk-label input.sk-toggleable__control:checked~label.sk-toggleable__label {background-color: #d4ebff;}#sk-container-id-1 input.sk-hidden--visually {border: 0;clip: rect(1px 1px 1px 1px);clip: rect(1px, 1px, 1px, 1px);height: 1px;margin: -1px;overflow: hidden;padding: 0;position: absolute;width: 1px;}#sk-container-id-1 div.sk-estimator {font-family: monospace;background-color: #f0f8ff;border: 1px dotted black;border-radius: 0.25em;box-sizing: border-box;margin-bottom: 0.5em;}#sk-container-id-1 div.sk-estimator:hover {background-color: #d4ebff;}#sk-container-id-1 div.sk-parallel-item::after {content: \"\";width: 100%;border-bottom: 1px solid gray;flex-grow: 1;}#sk-container-id-1 div.sk-label:hover label.sk-toggleable__label {background-color: #d4ebff;}#sk-container-id-1 div.sk-serial::before {content: \"\";position: absolute;border-left: 1px solid gray;box-sizing: border-box;top: 0;bottom: 0;left: 50%;z-index: 0;}#sk-container-id-1 div.sk-serial {display: flex;flex-direction: column;align-items: center;background-color: white;padding-right: 0.2em;padding-left: 0.2em;position: relative;}#sk-container-id-1 div.sk-item {position: relative;z-index: 1;}#sk-container-id-1 div.sk-parallel {display: flex;align-items: stretch;justify-content: center;background-color: white;position: relative;}#sk-container-id-1 div.sk-item::before, #sk-container-id-1 div.sk-parallel-item::before {content: \"\";position: absolute;border-left: 1px solid gray;box-sizing: border-box;top: 0;bottom: 0;left: 50%;z-index: -1;}#sk-container-id-1 div.sk-parallel-item {display: flex;flex-direction: column;z-index: 1;position: relative;background-color: white;}#sk-container-id-1 div.sk-parallel-item:first-child::after {align-self: flex-end;width: 50%;}#sk-container-id-1 div.sk-parallel-item:last-child::after {align-self: flex-start;width: 50%;}#sk-container-id-1 div.sk-parallel-item:only-child::after {width: 0;}#sk-container-id-1 div.sk-dashed-wrapped {border: 1px dashed gray;margin: 0 0.4em 0.5em 0.4em;box-sizing: border-box;padding-bottom: 0.4em;background-color: white;}#sk-container-id-1 div.sk-label label {font-family: monospace;font-weight: bold;display: inline-block;line-height: 1.2em;}#sk-container-id-1 div.sk-label-container {text-align: center;}#sk-container-id-1 div.sk-container {/* jupyter's `normalize.less` sets `[hidden] { display: none; }` but bootstrap.min.css set `[hidden] { display: none !important; }` so we also need the `!important` here to be able to override the default hidden behavior on the sphinx rendered scikit-learn.org. See: https://github.com/scikit-learn/scikit-learn/issues/21755 */display: inline-block !important;position: relative;}#sk-container-id-1 div.sk-text-repr-fallback {display: none;}</style><div id=\"sk-container-id-1\" class=\"sk-top-container\"><div class=\"sk-text-repr-fallback\"><pre>LGBMClassifier(learning_rate=0.0001, metric=&#x27;l2&#x27;, n_estimators=10000,\n",
       "               num_leaves=50, objective=&#x27;binary&#x27;, subsample=0.8)</pre><b>In a Jupyter environment, please rerun this cell to show the HTML representation or trust the notebook. <br />On GitHub, the HTML representation is unable to render, please try loading this page with nbviewer.org.</b></div><div class=\"sk-container\" hidden><div class=\"sk-item\"><div class=\"sk-estimator sk-toggleable\"><input class=\"sk-toggleable__control sk-hidden--visually\" id=\"sk-estimator-id-1\" type=\"checkbox\" checked><label for=\"sk-estimator-id-1\" class=\"sk-toggleable__label sk-toggleable__label-arrow\">LGBMClassifier</label><div class=\"sk-toggleable__content\"><pre>LGBMClassifier(learning_rate=0.0001, metric=&#x27;l2&#x27;, n_estimators=10000,\n",
       "               num_leaves=50, objective=&#x27;binary&#x27;, subsample=0.8)</pre></div></div></div></div></div>"
      ],
      "text/plain": [
       "LGBMClassifier(learning_rate=0.0001, metric='l2', n_estimators=10000,\n",
       "               num_leaves=50, objective='binary', subsample=0.8)"
      ]
     },
     "execution_count": 12,
     "metadata": {},
     "output_type": "execute_result"
    }
   ],
   "source": [
    "import lightgbm as lgb\n",
    "clf = lgb.LGBMClassifier(objective=\"binary\",\n",
    "        metric=\"l2\",\n",
    "        boosting_type=\"gbdt\",\n",
    "        n_estimators=10000,\n",
    "        num_leaves=50,\n",
    "        max_depth=-1,\n",
    "        learning_rate=0.0001,\n",
    "        subsample=0.8)\n",
    "clf.fit(X_train, y_train)"
   ]
  },
  {
   "cell_type": "code",
   "execution_count": 13,
   "metadata": {},
   "outputs": [],
   "source": [
    "y_pred=clf.predict(X_test)"
   ]
  },
  {
   "cell_type": "code",
   "execution_count": 14,
   "metadata": {},
   "outputs": [
    {
     "name": "stdout",
     "output_type": "stream",
     "text": [
      "LightGBM Model accuracy score: 0.5117\n"
     ]
    }
   ],
   "source": [
    "from sklearn.metrics import accuracy_score\n",
    "accuracy=accuracy_score(y_pred, y_test)\n",
    "print('LightGBM Model accuracy score: {0:0.4f}'.format(accuracy_score(y_test, y_pred)))"
   ]
  },
  {
   "cell_type": "code",
   "execution_count": 15,
   "metadata": {},
   "outputs": [],
   "source": [
    "y_pred_train = clf.predict(X_train)"
   ]
  },
  {
   "cell_type": "code",
   "execution_count": 16,
   "metadata": {},
   "outputs": [
    {
     "name": "stdout",
     "output_type": "stream",
     "text": [
      "Training-set accuracy score: 0.7050\n"
     ]
    }
   ],
   "source": [
    "print('Training-set accuracy score: {0:0.4f}'. format(accuracy_score(y_train, y_pred_train)))"
   ]
  },
  {
   "cell_type": "code",
   "execution_count": 17,
   "metadata": {},
   "outputs": [
    {
     "name": "stdout",
     "output_type": "stream",
     "text": [
      "Training set score: 0.7050\n",
      "Test set score: 0.5117\n"
     ]
    }
   ],
   "source": [
    "print('Training set score: {:.4f}'.format(clf.score(X_train, y_train)))\n",
    "\n",
    "print('Test set score: {:.4f}'.format(clf.score(X_test, y_test)))"
   ]
  },
  {
   "cell_type": "code",
   "execution_count": 18,
   "metadata": {},
   "outputs": [
    {
     "name": "stdout",
     "output_type": "stream",
     "text": [
      "Confusion matrix\n",
      "\n",
      " [[358 449]\n",
      " [365 495]]\n",
      "\n",
      "True Positives(TP) =  358\n",
      "\n",
      "True Negatives(TN) =  495\n",
      "\n",
      "False Positives(FP) =  449\n",
      "\n",
      "False Negatives(FN) =  365\n"
     ]
    }
   ],
   "source": [
    "from sklearn.metrics import confusion_matrix\n",
    "cm = confusion_matrix(y_test, y_pred)\n",
    "print('Confusion matrix\\n\\n', cm)\n",
    "print('\\nTrue Positives(TP) = ', cm[0,0])\n",
    "print('\\nTrue Negatives(TN) = ', cm[1,1])\n",
    "print('\\nFalse Positives(FP) = ', cm[0,1])\n",
    "print('\\nFalse Negatives(FN) = ', cm[1,0])"
   ]
  },
  {
   "cell_type": "code",
   "execution_count": 19,
   "metadata": {},
   "outputs": [
    {
     "data": {
      "text/plain": [
       "<AxesSubplot:>"
      ]
     },
     "execution_count": 19,
     "metadata": {},
     "output_type": "execute_result"
    },
    {
     "data": {
      "image/png": "[encoded data removed]",
      "text/plain": [
       "<Figure size 640x480 with 2 Axes>"
      ]
     },
     "metadata": {},
     "output_type": "display_data"
    }
   ],
   "source": [
    "cm_matrix = pd.DataFrame(data=cm, columns=['Actual Positive:1', 'Actual Negative:0'], \n",
    "                                 index=['Predict Positive:1', 'Predict Negative:0'])\n",
    "\n",
    "sns.heatmap(cm_matrix, annot=True, fmt='d', cmap='YlGnBu')"
   ]
  },
  {
   "cell_type": "code",
   "execution_count": 20,
   "metadata": {},
   "outputs": [
    {
     "name": "stdout",
     "output_type": "stream",
     "text": [
      "              precision    recall  f1-score   support\n",
      "\n",
      "         0.0       0.50      0.44      0.47       807\n",
      "         1.0       0.52      0.58      0.55       860\n",
      "\n",
      "    accuracy                           0.51      1667\n",
      "   macro avg       0.51      0.51      0.51      1667\n",
      "weighted avg       0.51      0.51      0.51      1667\n",
      "\n"
     ]
    }
   ],
   "source": [
    "from sklearn.metrics import classification_report\n",
    "print(classification_report(y_test, y_pred))"
   ]
  },
  {
   "cell_type": "code",
   "execution_count": null,
   "metadata": {},
   "outputs": [],
   "source": [
    "result_test = df.iloc[-10:,:].copy()\n",
    "#result_test = convert_matrix(result_test, col_list[1:])\n",
    "#result_test = result_test.drop(columns=['d_r'], axis=1)\n",
    "# result_test"
   ]
  },
  {
   "cell_type": "code",
   "execution_count": null,
   "metadata": {},
   "outputs": [],
   "source": [
    "X = result_test[col_list[1:]]\n",
    "y = result_test[y_col]"
   ]
  },
  {
   "cell_type": "code",
   "execution_count": null,
   "metadata": {},
   "outputs": [],
   "source": [
    "y_pred_train = clf.predict(X)"
   ]
  },
  {
   "cell_type": "code",
   "execution_count": null,
   "metadata": {},
   "outputs": [
    {
     "data": {
      "text/plain": [
       "(array([1., 1., 1., 1., 1., 1., 0., 1., 1., 1.]),\n",
       " 159    0.0\n",
       " 160    0.0\n",
       " 161    0.0\n",
       " 162    0.0\n",
       " 163    1.0\n",
       " 164    1.0\n",
       " 165    0.0\n",
       " 166    0.0\n",
       " 167    1.0\n",
       " 168    NaN\n",
       " Name: feature_label, dtype: float64)"
      ]
     },
     "execution_count": 123,
     "metadata": {},
     "output_type": "execute_result"
    }
   ],
   "source": [
    "y_pred_train, y"
   ]
  },
  {
   "cell_type": "code",
   "execution_count": null,
   "metadata": {},
   "outputs": [
    {
     "data": {
      "text/plain": [
       "1.0"
      ]
     },
     "execution_count": 124,
     "metadata": {},
     "output_type": "execute_result"
    }
   ],
   "source": [
    "y_pred_train[-1]"
   ]
  },
  {
   "cell_type": "code",
   "execution_count": null,
   "metadata": {},
   "outputs": [],
   "source": []
  }
 ],
 "metadata": {
  "kernelspec": {
   "display_name": "Python 3.10.6 ('tf_stock')",
   "language": "python",
   "name": "python3"
  },
  "language_info": {
   "codemirror_mode": {
    "name": "ipython",
    "version": 3
   },
   "file_extension": ".py",
   "mimetype": "text/x-python",
   "name": "python",
   "nbconvert_exporter": "python",
   "pygments_lexer": "ipython3",
   "version": "3.10.6"
  },
  "orig_nbformat": 4,
  "vscode": {
   "interpreter": {
    "hash": "8f97d5ab6e8b52c467319575a5af3fdb82615b87f2656e3584477e6e258fa7b9"
   }
  }
 },
 "nbformat": 4,
 "nbformat_minor": 2
}
